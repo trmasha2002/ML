{
 "cells": [
  {
   "cell_type": "code",
   "execution_count": 78,
   "metadata": {},
   "outputs": [],
   "source": [
    "import numpy as np\n",
    "import pandas as pd\n",
    "import matplotlib.pyplot as plt\n",
    "from sklearn.model_selection import cross_val_score\n",
    "%matplotlib inline"
   ]
  },
  {
   "cell_type": "code",
   "execution_count": 79,
   "metadata": {},
   "outputs": [],
   "source": [
    "df = pd.read_csv(\"all/train_V2.csv\")"
   ]
  },
  {
   "cell_type": "code",
   "execution_count": 80,
   "metadata": {},
   "outputs": [
    {
     "data": {
      "text/plain": [
       "Id                 0\n",
       "groupId            0\n",
       "matchId            0\n",
       "assists            0\n",
       "boosts             0\n",
       "damageDealt        0\n",
       "DBNOs              0\n",
       "headshotKills      0\n",
       "heals              0\n",
       "killPlace          0\n",
       "killPoints         0\n",
       "kills              0\n",
       "killStreaks        0\n",
       "longestKill        0\n",
       "matchDuration      0\n",
       "matchType          0\n",
       "maxPlace           0\n",
       "numGroups          0\n",
       "rankPoints         0\n",
       "revives            0\n",
       "rideDistance       0\n",
       "roadKills          0\n",
       "swimDistance       0\n",
       "teamKills          0\n",
       "vehicleDestroys    0\n",
       "walkDistance       0\n",
       "weaponsAcquired    0\n",
       "winPoints          0\n",
       "winPlacePerc       1\n",
       "dtype: int64"
      ]
     },
     "execution_count": 80,
     "metadata": {},
     "output_type": "execute_result"
    }
   ],
   "source": [
    "df.isna().sum()[:] "
   ]
  },
  {
   "cell_type": "code",
   "execution_count": 81,
   "metadata": {},
   "outputs": [
    {
     "name": "stdout",
     "output_type": "stream",
     "text": [
      "Сдвиг=0.7832601218832687\n",
      "Коэффициент для assists=0.013743495501770423\n",
      "Коэффициент для boosts=0.014594420275771989\n",
      "Коэффициент для damageDealt=7.01809254251562e-05\n",
      "Коэффициент для DBNOs=-0.009311115058490887\n",
      "Коэффициент для headshotKills=0.047106191441584726\n",
      "Коэффициент для heals=0.0009106725628323884\n",
      "Коэффициент для killPlace=-0.006576002572106063\n",
      "Коэффициент для killPoints=-3.510575605120809e-05\n",
      "Коэффициент для kills=-0.027496720818040568\n",
      "Коэффициент для killStreaks=-0.12400055854122284\n",
      "Коэффициент для longestKill=2.5607837616132935e-05\n",
      "Коэффициент для matchDuration=-0.00015949623013152505\n",
      "Коэффициент для maxPlace=-0.00899791656306652\n",
      "Коэффициент для numGroups=0.00976414844893334\n",
      "Коэффициент для rankPoints=0.00010517622153755848\n",
      "Коэффициент для revives=0.013249849360045243\n",
      "Коэффициент для rideDistance=1.722639808879181e-05\n",
      "Коэффициент для roadKills=0.015933135192502352\n",
      "Коэффициент для swimDistance=0.00010872717055466241\n",
      "Коэффициент для teamKills=-0.013188620883634167\n",
      "Коэффициент для vehicleDestroys=0.008386786223914653\n",
      "Коэффициент для walkDistance=0.00011135986613817213\n",
      "Коэффициент для weaponsAcquired=0.011179748630951874\n",
      "Коэффициент для winPoints=0.00013385034504658164\n",
      "Коэффициент для headshotKills_over_kills=-0.1075596288038157\n",
      "Коэффициент для killPlace_over_maxPlace=-0.027963365709309077\n",
      "Коэффициент для walkDistance_over_heals=2.2988286907999553e-06\n",
      "\n",
      "Результат=0.01567402341889002\n"
     ]
    }
   ],
   "source": [
    "from sklearn.linear_model import Ridge\n",
    "from sklearn import preprocessing\n",
    "df['headshotKills_over_kills'] = df['headshotKills'] / df['kills']\n",
    "df['headshotKills_over_kills'].fillna(0, inplace=True)\n",
    "df['killPlace_over_maxPlace'] = df['killPlace'] / df['maxPlace']\n",
    "df['killPlace_over_maxPlace'].fillna(0, inplace=True)\n",
    "df['killPlace_over_maxPlace'].replace(np.inf, 0, inplace=True)\n",
    "df['walkDistance_over_heals'] = df['walkDistance'] / df['heals']\n",
    "df['walkDistance_over_heals'].fillna(0, inplace=True)\n",
    "df['walkDistance_over_heals'].replace(np.inf, 0, inplace=True)\n",
    "X = df.drop([\"Id\",\"groupId\", \"matchId\", \"matchType\", \"winPlacePerc\"], axis=1)\n",
    "y = df[\"winPlacePerc\"]\n",
    "\n",
    "y.fillna(value=0, inplace=True)\n",
    "reg = Ridge().fit(X, y)\n",
    "# Посмотрим на коэффициенты модели\n",
    "# Коэффициенты\n",
    "print(\"Сдвиг={}\".format(reg.intercept_))\n",
    "for column, coef in zip(X.columns, reg.coef_):\n",
    "    print(\"Коэффициент для {}={}\".format(column, coef))\n",
    "print()\n",
    "\n",
    "errors = -cross_val_score(Ridge(), X, y, cv=5, scoring='neg_mean_squared_error')\n",
    "print(\"Результат={}\".format(np.average(errors)))"
   ]
  },
  {
   "cell_type": "code",
   "execution_count": 82,
   "metadata": {},
   "outputs": [
    {
     "name": "stdout",
     "output_type": "stream",
     "text": [
      "0.022336368246795905\n"
     ]
    }
   ],
   "source": [
    "X = df.drop([\"Id\",\"groupId\", \"matchId\", \"matchType\", \"winPlacePerc\", \"walkDistance\", \"swimDistance\", \"rankPoints\",\"matchDuration\"], axis=1)\n",
    "lambdas = 2.0 ** np.arange(-1, 10, 0.2)\n",
    "lambda_errors = []\n",
    "for val in lambdas:\n",
    "    cv_error = -np.average(cross_val_score(Ridge(alpha=val), X, y, cv=5, scoring='neg_mean_squared_error'))\n",
    "    lambda_errors.append((val, np.average(cv_error)))\n",
    "min_val, min_train_error = min(lambda_errors, key=lambda x: x[1])\n",
    "best_reg = Ridge(alpha=min_val)\n",
    "cv_error = -np.average(cross_val_score(best_reg, X, y, cv=5, scoring='neg_mean_squared_error'))\n",
    "reg = Ridge().fit(X, y)\n",
    "print(cv_error)"
   ]
  },
  {
   "cell_type": "code",
   "execution_count": 83,
   "metadata": {},
   "outputs": [
    {
     "name": "stdout",
     "output_type": "stream",
     "text": [
      "0.021491722197332398\n"
     ]
    }
   ],
   "source": [
    "X = df.drop([\"Id\",\"groupId\", \"matchId\", \"matchType\", \"winPlacePerc\", \"walkDistance\", \"swimDistance\", \"rankPoints\"], axis=1)\n",
    "lambdas = 2.0 ** np.arange(-1, 10, 0.2)\n",
    "lambda_errors = []\n",
    "for val in lambdas:\n",
    "    cv_error = -np.average(cross_val_score(Ridge(alpha=val), X, y, cv=5, scoring='neg_mean_squared_error'))\n",
    "    lambda_errors.append((val, np.average(cv_error)))\n",
    "min_val, min_train_error = min(lambda_errors, key=lambda x: x[1])\n",
    "best_reg = Ridge(alpha=min_val)\n",
    "cv_error = -np.average(cross_val_score(best_reg, X, y, cv=5, scoring='neg_mean_squared_error'))\n",
    "reg = Ridge().fit(X, y)\n",
    "print(cv_error)"
   ]
  },
  {
   "cell_type": "code",
   "execution_count": 84,
   "metadata": {},
   "outputs": [],
   "source": [
    "df = pd.read_csv(\"all/test_V2.csv\")"
   ]
  },
  {
   "cell_type": "code",
   "execution_count": 85,
   "metadata": {},
   "outputs": [
    {
     "data": {
      "text/plain": [
       "Id                 0\n",
       "groupId            0\n",
       "matchId            0\n",
       "assists            0\n",
       "boosts             0\n",
       "damageDealt        0\n",
       "DBNOs              0\n",
       "headshotKills      0\n",
       "heals              0\n",
       "killPlace          0\n",
       "killPoints         0\n",
       "kills              0\n",
       "killStreaks        0\n",
       "longestKill        0\n",
       "matchDuration      0\n",
       "matchType          0\n",
       "maxPlace           0\n",
       "numGroups          0\n",
       "rankPoints         0\n",
       "revives            0\n",
       "rideDistance       0\n",
       "roadKills          0\n",
       "swimDistance       0\n",
       "teamKills          0\n",
       "vehicleDestroys    0\n",
       "walkDistance       0\n",
       "weaponsAcquired    0\n",
       "winPoints          0\n",
       "dtype: int64"
      ]
     },
     "execution_count": 85,
     "metadata": {},
     "output_type": "execute_result"
    }
   ],
   "source": [
    "df.isna().sum()[:] "
   ]
  },
  {
   "cell_type": "code",
   "execution_count": 86,
   "metadata": {},
   "outputs": [],
   "source": [
    "X = df.drop([\"Id\",\"groupId\", \"matchId\", \"matchType\"], axis=1)\n",
    "y = reg.predict(X)\n",
    "df['winPlacePerc'] = y\n",
    "df[['winPlacePerc', 'Id']].to_csv('sample_submission.csv', index=None)"
   ]
  },
  {
   "cell_type": "markdown",
   "metadata": {},
   "source": [
    "                                           ОТЧЕТ\n",
    " 1. Я скачала датасет\n",
    " 2. Накрафитила новые фичи, брала в kernel у @rejasupotaro\n",
    " 3. Вывела коэффиценты для L2-регуляризации. Чтобы убрать ненужные и построить нормальную зависимость. \n",
    " 4. Перебрала лямбды, для улучшения качества L2-регуляризации, по опыту L2-регуляризация дает меньше всего ошибку поэтому использовала ее. \n",
    " 5. Сделала все тоже самое, для test, ну и всякие мелочи, проверка на пропущенные данные и т.д \n",
    "6. В результате самый лучший результат получается если ничего не убирать. "
   ]
  },
  {
   "cell_type": "code",
   "execution_count": null,
   "metadata": {},
   "outputs": [],
   "source": []
  }
 ],
 "metadata": {
  "kernelspec": {
   "display_name": "Python 3",
   "language": "python",
   "name": "python3"
  },
  "language_info": {
   "codemirror_mode": {
    "name": "ipython",
    "version": 3
   },
   "file_extension": ".py",
   "mimetype": "text/x-python",
   "name": "python",
   "nbconvert_exporter": "python",
   "pygments_lexer": "ipython3",
   "version": "3.6.5"
  }
 },
 "nbformat": 4,
 "nbformat_minor": 2
}
