{
 "cells": [
  {
   "cell_type": "code",
   "execution_count": 22,
   "metadata": {},
   "outputs": [],
   "source": [
    "import numpy as np\n",
    "import pandas as pd\n",
    "from sklearn.feature_extraction.text import TfidfVectorizer\n",
    "from sklearn.feature_extraction.text import CountVectorizer\n",
    "vectorizer = CountVectorizer()\n",
    "from nltk.stem.snowball import SnowballStemmer\n",
    "from sklearn.linear_model import LinearRegression\n",
    "from sklearn.linear_model import Ridge\n",
    "from sklearn.model_selection import cross_val_score\n",
    "from sklearn.metrics import mean_squared_error\n",
    "from sklearn.feature_extraction.text import CountVectorizer\n",
    "from sklearn.linear_model import Lasso\n",
    "import re"
   ]
  },
  {
   "cell_type": "code",
   "execution_count": 23,
   "metadata": {},
   "outputs": [
    {
     "name": "stdout",
     "output_type": "stream",
     "text": [
      "216.7870389450331\n"
     ]
    }
   ],
   "source": [
    "df = pd.read_csv(\"all/train.csv\", encoding='latin-1')\n",
    "y = df['Rating']\n",
    "stemmer = SnowballStemmer(language='english') \n",
    "idf_vectorizer = TfidfVectorizer()\n",
    "corpus = df['Review_Text']\n",
    "X = idf_vectorizer.fit_transform(corpus) # преобразование векторов\n",
    "reg = Ridge().fit(X, y) # обучение\n",
    "lambdas = np.arange(0.1, 3.0, 0.2) # лямбды\n",
    "lambda_errors = []\n",
    "for val in lambdas:\n",
    "    cv_error = -np.average(cross_val_score(Ridge(alpha=val), X, y, cv=5, scoring='neg_mean_squared_error')) # подсчет ошибки\n",
    "    lambda_errors.append((val, np.average(cv_error)))\n",
    "min_val, min_train_error = min(lambda_errors, key=lambda x: x[1]) \n",
    "best_reg = Ridge(alpha=min_val)\n",
    "cv_error = -np.average(cross_val_score(best_reg, X, y, cv=5, scoring='neg_mean_squared_error')) # ошибка\n",
    "\n",
    "print(cv_error)"
   ]
  },
  {
   "cell_type": "code",
   "execution_count": 24,
   "metadata": {},
   "outputs": [
    {
     "name": "stdout",
     "output_type": "stream",
     "text": [
      "444.7033597183325\n"
     ]
    }
   ],
   "source": [
    "lambdas = 2.0 ** np.arange(-1, 10, 0.2) # лямбды\n",
    "for val in lambdas:\n",
    "    cv_error = -np.average(cross_val_score(Lasso(alpha=val), X, y, cv=5, scoring='neg_mean_squared_error')) # подсчет ошибки\n",
    "    lambda_errors.append((val, np.average(cv_error)))\n",
    "min_val, min_train_error = min(lambda_errors, key=lambda x: x[1])\n",
    "best_reg = Lasso(alpha=min_val) # лучшая ошибка\n",
    "cv_error = -np.average(cross_val_score(best_reg, X, y, cv=5, scoring='neg_mean_squared_error'))\n",
    "print(cv_error)"
   ]
  },
  {
   "cell_type": "code",
   "execution_count": 25,
   "metadata": {},
   "outputs": [
    {
     "name": "stdout",
     "output_type": "stream",
     "text": [
      "759.979824854634\n"
     ]
    }
   ],
   "source": [
    "reg = LinearRegression()\n",
    "reg.fit(X, y) \n",
    "cv_error = -np.average(cross_val_score(LinearRegression(), X, y, cv=5, scoring='neg_mean_squared_error'))  # просто построение линейной регрессии\n",
    "print(cv_error)"
   ]
  },
  {
   "cell_type": "code",
   "execution_count": 26,
   "metadata": {},
   "outputs": [
    {
     "name": "stdout",
     "output_type": "stream",
     "text": [
      "278.01894308972857\n"
     ]
    }
   ],
   "source": [
    "vectorizer = CountVectorizer() # подсчет COuntvectoriez\n",
    "X = vectorizer.fit_transform(corpus) \n",
    "reg = Ridge().fit(X, y) # используем L2-регуляризацию\n",
    "lambdas = np.arange(0.1, 3.0, 0.2)\n",
    "lambda_errors = []\n",
    "for val in lambdas:\n",
    "    cv_error = -np.average(cross_val_score(Ridge(alpha=val), X, y, cv=5, scoring='neg_mean_squared_error')) # считаем ошибку\n",
    "    lambda_errors.append((val, np.average(cv_error)))\n",
    "min_val, min_train_error = min(lambda_errors, key=lambda x: x[1]) # минимальная ошибка\n",
    "best_reg = Ridge(alpha=min_val)\n",
    "cv_error = -np.average(cross_val_score(best_reg, X, y, cv=5, scoring='neg_mean_squared_error'))\n",
    "\n",
    "print(cv_error)"
   ]
  },
  {
   "cell_type": "code",
   "execution_count": 27,
   "metadata": {},
   "outputs": [
    {
     "name": "stderr",
     "output_type": "stream",
     "text": [
      "/anaconda3/lib/python3.6/site-packages/ipykernel_launcher.py:13: SettingWithCopyWarning: \n",
      "A value is trying to be set on a copy of a slice from a DataFrame\n",
      "\n",
      "See the caveats in the documentation: http://pandas.pydata.org/pandas-docs/stable/indexing.html#indexing-view-versus-copy\n",
      "  del sys.path[0]\n"
     ]
    },
    {
     "name": "stdout",
     "output_type": "stream",
     "text": [
      "219.60910371527885\n"
     ]
    }
   ],
   "source": [
    "df = pd.read_csv(\"all/train.csv\", encoding='latin-1')\n",
    "y = df['Rating']\n",
    "for i in range(len(df)):\n",
    "    sent = df['Review_Text'][i]\n",
    "    string = \"\"\n",
    "    exp = r'(?<!\\w\\.\\w.)(?<![А-Я][а-я]\\.)(?<=\\.|\\?)\\s' # выражение чтобы расплитить слова\n",
    "    tmp_string = re.split(exp, sent)\n",
    "    for sent in tmp_string:\n",
    "        a = [stemmer.stem(word) for word in sent.split()] # удаление не нужных слов\n",
    "        for x in a:\n",
    "            string += x\n",
    "            string += \" \" # преобразуем все оставщееся обратно в отзыв\n",
    "    df['Review_Text'][i] = string\n",
    "corpus = df['Review_Text']\n",
    "X = idf_vectorizer.fit_transform(corpus) # делаем матрицу\n",
    "reg = Ridge().fit(X, y)  \n",
    "lambdas = np.arange(0.1, 3.0, 0.2)\n",
    "lambda_errors = []\n",
    "for val in lambdas:\n",
    "    cv_error = -np.average(cross_val_score(Ridge(alpha=val), X, y, cv=5, scoring='neg_mean_squared_error')) # снова строим с L2\n",
    "    lambda_errors.append((val, np.average(cv_error)))\n",
    "min_val, min_train_error = min(lambda_errors, key=lambda x: x[1])\n",
    "best_reg = Ridge(alpha=min_val)\n",
    "cv_error = -np.average(cross_val_score(best_reg, X, y, cv=5, scoring='neg_mean_squared_error'))\n",
    "\n",
    "print(cv_error)"
   ]
  },
  {
   "cell_type": "code",
   "execution_count": 28,
   "metadata": {},
   "outputs": [
    {
     "name": "stdout",
     "output_type": "stream",
     "text": [
      "445.66108072919735\n"
     ]
    }
   ],
   "source": [
    "df = pd.read_csv(\"all/train.csv\", encoding='latin-1')\n",
    "expr = r'\\W'\n",
    "parser=re.compile(expr)\n",
    "y = df['Rating']\n",
    "f = open('positive-words.txt')\n",
    "positive = f.read()\n",
    "s = open('negative-words.txt', 'r', encoding=\"ISO-8859-1\");\n",
    "negative = s.read()\n",
    "X = np.array([0 for i in range(len(df))])\n",
    "for i in range(len(df)):\n",
    "    sent = df['Review_Text'][i]\n",
    "    sent = sent.lower() # приводим все к маленьким\n",
    "    tmp_string = parser.sub(r' ', sent) # приводим к массиве чтобы можно было искать\n",
    "    tmp_string = tmp_string.split()\n",
    "    count = 0\n",
    "    for x in tmp_string:\n",
    "        if x in positive:\n",
    "            count += 2.6 # считаем число у каждой строки\n",
    "        if x in negative:\n",
    "            count -= 1\n",
    "    X[i] = count\n",
    "X = X.reshape(-1, 1) \n",
    "reg = Ridge().fit(X, y) # строим  Линейную регрессию L2\n",
    "lambdas = np.arange(0.1, 3.0, 0.2)\n",
    "lambda_errors = []\n",
    "for val in lambdas:\n",
    "    cv_error = -np.average(cross_val_score(Ridge(alpha=val), X, y, cv=5, scoring='neg_mean_squared_error')) # считаем ошибку\n",
    "    lambda_errors.append((val, np.average(cv_error)))\n",
    "min_val, min_train_error = min(lambda_errors, key=lambda x: x[1])\n",
    "best_reg = Ridge(alpha=min_val)\n",
    "cv_error = -np.average(cross_val_score(best_reg, X, y, cv=5, scoring='neg_mean_squared_error'))\n",
    "\n",
    "print(cv_error)"
   ]
  },
  {
   "cell_type": "markdown",
   "metadata": {},
   "source": [
    "                                            Отчет\n",
    "1. Я преобразовала отзывы в матрицу(idf_vectorizer) и построила линейную регрессию с L2-регуляризацией.\n",
    "2. Я попробовала вместо L2 регуляризации сделать L1, результат ухудшился\n",
    "3. Я решила вообще убрать регуляризации. \n",
    "4. Я преобразовала  отзывы в матрицу(сount_vectorizer) и построила линейную регрессию с L2-регуляризацией\n",
    "5. Я решила убрать stop_words и преобразовала отзывы в матрицу(idf_vectorizer), и построила линейную регрессию с L2-регуляризацией.\n",
    "6. Я попробовала использовать positive и negative words, добавляя за каждое позитивное слово что-тo и вычитая за каждое негативное слово что-то.\n",
    "\n",
    "В результате лучшая ошибка была в (1).\n"
   ]
  },
  {
   "cell_type": "code",
   "execution_count": null,
   "metadata": {},
   "outputs": [],
   "source": []
  }
 ],
 "metadata": {
  "kernelspec": {
   "display_name": "Python 3",
   "language": "python",
   "name": "python3"
  },
  "language_info": {
   "codemirror_mode": {
    "name": "ipython",
    "version": 3
   },
   "file_extension": ".py",
   "mimetype": "text/x-python",
   "name": "python",
   "nbconvert_exporter": "python",
   "pygments_lexer": "ipython3",
   "version": "3.6.5"
  }
 },
 "nbformat": 4,
 "nbformat_minor": 2
}
